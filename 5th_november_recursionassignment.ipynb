{
 "cells": [
  {
   "cell_type": "code",
   "execution_count": 37,
   "metadata": {},
   "outputs": [],
   "source": [
    "#Recursion Assignment"
   ]
  },
  {
   "cell_type": "markdown",
   "metadata": {},
   "source": [
    "Q.1 Can you explain the logic and working of the Tower of Hanoi algorithm by writing a Java program?\n",
    "How does the recursion work, and how are the movements of disks between rods accomplished?"
   ]
  },
  {
   "cell_type": "code",
   "execution_count": 2,
   "metadata": {},
   "outputs": [
    {
     "name": "stdout",
     "output_type": "stream",
     "text": [
      "move disk1 from A to C\n",
      "move disk2 from A to B\n",
      "move disk1 from C to B\n",
      "move disk3 from A to C\n",
      "move disk1 from B to A\n",
      "move disk2 from B to C\n",
      "move disk1 from A to C\n"
     ]
    }
   ],
   "source": [
    "def tower_of_hanoi(n,source_rod,auxillary_rod,target_rod):\n",
    "\n",
    "    if n==1:\n",
    "        print(f'move disk{n} from {source_rod} to {target_rod}')\n",
    "        return\n",
    "    else:\n",
    "        tower_of_hanoi(n-1,source_rod,target_rod,auxillary_rod)\n",
    "        print(f'move disk{n} from {source_rod} to {target_rod}')\n",
    "        tower_of_hanoi(n-1,auxillary_rod,source_rod,target_rod)\n",
    "\n",
    "number_of_disks = 3\n",
    "source_rod = 'A'\n",
    "auxillary_rod = \"B\"\n",
    "target_rod = \"C\"\n",
    "tower_of_hanoi(number_of_disks,source_rod,auxillary_rod,target_rod)"
   ]
  },
  {
   "cell_type": "markdown",
   "metadata": {},
   "source": [
    "Q.2 Given two strings word1 and word2, return the minimum number of operations required to convert word1\n",
    "to word2."
   ]
  },
  {
   "cell_type": "code",
   "execution_count": 34,
   "metadata": {},
   "outputs": [
    {
     "data": {
      "text/plain": [
       "3"
      ]
     },
     "execution_count": 34,
     "metadata": {},
     "output_type": "execute_result"
    }
   ],
   "source": [
    "def number_of_ops(word1,word2,m,n):\n",
    "    #base condition\n",
    "    #if word1 is empty then n number of words need to add\n",
    "    if m==0:\n",
    "        return n\n",
    "    #if word2 is empty then m number of words need to erase\n",
    "    elif n==0:\n",
    "        return m\n",
    "    \n",
    "    #check string character one by one from right\n",
    "    elif word1[m-1]==word2[n-1]:\n",
    "        return number_of_ops(word1,word2,m-1,n-1)\n",
    "\n",
    "    else:\n",
    "        return 1+min(\n",
    "            number_of_ops(word1,word2,m,n-1), #insert\n",
    "            number_of_ops(word1,word2,m-1,n), #remove\n",
    "            number_of_ops(word1,word2,m-1,n-1)  #replace\n",
    "        )\n",
    "    \n",
    "word1 = \"horse\"\n",
    "word2 = \"ros\"\n",
    "m = len(word1)\n",
    "n = len(word2) \n",
    "number_of_ops(word1,word2,m,n)"
   ]
  },
  {
   "cell_type": "markdown",
   "metadata": {},
   "source": [
    "Q. 3 Print the max value of the array [ 13, 1, -3, 22, 5]."
   ]
  },
  {
   "cell_type": "code",
   "execution_count": 12,
   "metadata": {},
   "outputs": [
    {
     "data": {
      "text/plain": [
       "22"
      ]
     },
     "execution_count": 12,
     "metadata": {},
     "output_type": "execute_result"
    }
   ],
   "source": [
    "def max_value(arr):\n",
    "    if len(arr)==1:\n",
    "        return arr[0]\n",
    "    \n",
    "    return max(arr[0],max_value(arr[1:]))\n",
    "\n",
    "\n",
    "arr = [13, 1, -3, 22, 5]\n",
    "max_value(arr)"
   ]
  },
  {
   "cell_type": "markdown",
   "metadata": {},
   "source": [
    "Q.4 Find the sum of the values of the array [92, 23, 15, -20, 10]."
   ]
  },
  {
   "cell_type": "code",
   "execution_count": 19,
   "metadata": {},
   "outputs": [
    {
     "data": {
      "text/plain": [
       "120"
      ]
     },
     "execution_count": 19,
     "metadata": {},
     "output_type": "execute_result"
    }
   ],
   "source": [
    "def sum_values(arr):\n",
    "    if not arr:\n",
    "        return 'empty array'\n",
    "    if len(arr)==1:\n",
    "        return arr[0]\n",
    "    return arr[0]+sum_values(arr[1:])\n",
    "\n",
    "arr = [92, 23, 15, -20, 10]\n",
    "sum_values(arr)"
   ]
  },
  {
   "cell_type": "markdown",
   "metadata": {},
   "source": [
    "Q.5 Given a number n. Print if it is an armstrong number or not.An armstrong number is a number if the sum\n",
    "of every digit in that number raised to the power of total digits in that number is equal to the number."
   ]
  },
  {
   "cell_type": "code",
   "execution_count": 31,
   "metadata": {},
   "outputs": [
    {
     "name": "stdout",
     "output_type": "stream",
     "text": [
      "True, It is armstrong number\n"
     ]
    }
   ],
   "source": [
    "def number_of_digit(number,count=0):\n",
    "    if number==0:\n",
    "        return 0\n",
    "    number = number//10\n",
    "    return 1+number_of_digit(number,count)\n",
    "\n",
    "def armstrong_number(number):\n",
    "    if number==0:\n",
    "        return 0\n",
    "    digit = number%10\n",
    "    return digit**pow+armstrong_number(number//10)\n",
    "\n",
    "number = 153\n",
    "pow = number_of_digit(number)\n",
    "\n",
    "if number == armstrong_number(number):\n",
    "    print('True, It is armstrong number')\n",
    "else:\n",
    "    print('False, it is not a armstrong number')"
   ]
  },
  {
   "cell_type": "markdown",
   "metadata": {},
   "source": []
  }
 ],
 "metadata": {
  "kernelspec": {
   "display_name": "base",
   "language": "python",
   "name": "python3"
  },
  "language_info": {
   "codemirror_mode": {
    "name": "ipython",
    "version": 3
   },
   "file_extension": ".py",
   "mimetype": "text/x-python",
   "name": "python",
   "nbconvert_exporter": "python",
   "pygments_lexer": "ipython3",
   "version": "3.8.5"
  }
 },
 "nbformat": 4,
 "nbformat_minor": 2
}
